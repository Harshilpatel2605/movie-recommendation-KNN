{
  "nbformat": 4,
  "nbformat_minor": 0,
  "metadata": {
    "colab": {
      "provenance": [],
      "authorship_tag": "ABX9TyO0XDddYn9qd++QR8a2rd3m",
      "include_colab_link": true
    },
    "kernelspec": {
      "name": "python3",
      "display_name": "Python 3"
    },
    "language_info": {
      "name": "python"
    }
  },
  "cells": [
    {
      "cell_type": "markdown",
      "metadata": {
        "id": "view-in-github",
        "colab_type": "text"
      },
      "source": [
        "<a href=\"https://colab.research.google.com/github/Harshilpatel2605/movie-recommendation-KNN/blob/main/Movie_Recommendation.ipynb\" target=\"_parent\"><img src=\"https://colab.research.google.com/assets/colab-badge.svg\" alt=\"Open In Colab\"/></a>"
      ]
    },
    {
      "cell_type": "code",
      "execution_count": 5,
      "metadata": {
        "colab": {
          "base_uri": "https://localhost:8080/"
        },
        "id": "EwUt9h5ar3RQ",
        "outputId": "2c9d7e26-494e-4f56-b0c2-a3ea06254e02"
      },
      "outputs": [
        {
          "output_type": "stream",
          "name": "stdout",
          "text": [
            "Movie Selected: Interstellar (2014) Index:  8376\n",
            "Searching for recommendations...\n",
            "7944                           Christmas Carol, A (1999)\n",
            "7005                    Man on the Flying Trapeze (1935)\n",
            "7992               House at the End of the Street (2012)\n",
            "8374             Bring It On: Fight to the Finish (2009)\n",
            "7769                           Bourne Legacy, The (2012)\n",
            "8252                                      Gravity (2013)\n",
            "5625                                       Taxi 2 (2000)\n",
            "5960                                      Junebug (2005)\n",
            "8042                                    Byzantium (2012)\n",
            "8069                               Campfire Tales (1997)\n",
            "7638                              Horrible Bosses (2011)\n",
            "7931                                      Savages (2012)\n",
            "7722                                  Margin Call (2011)\n",
            "8516                                      Laggies (2014)\n",
            "7868           Comic-Con Episode IV: A Fan's Hope (2011)\n",
            "5776                       Assault on Precinct 13 (2005)\n",
            "1868                                  Still Crazy (1998)\n",
            "8376                                                 NaN\n",
            "7175     Cirque du Freak: The Vampire's Assistant (2009)\n",
            "5248                             Tokyo Godfathers (2003)\n",
            "8437            A Million Ways to Die in the West (2014)\n",
            "7673                                       Hesher (2010)\n",
            "7833                                     Red Hill (2010)\n",
            "8224                           Revenge for Jolly! (2012)\n",
            "7287                               Burrowers, The (2008)\n",
            "8213                                Stuck in Love (2012)\n",
            "5495                             1900 (Novecento) (1976)\n",
            "5078                                        Dolls (1987)\n",
            "8203                     Redemption (Hummingbird) (2013)\n",
            "7468                        Art of the Steal, The (2009)\n",
            "7636           My Life as McDull (Mak dau goo si) (2001)\n",
            "4384                    Two Mules for Sister Sara (1970)\n",
            "7611                            Tree of Life, The (2011)\n",
            "5831                               Milk and Honey (2003)\n",
            "5524             Police Story (Ging chaat goo si) (1985)\n",
            "7651                                   Woman, The (2011)\n",
            "8115                                 Maniac Cop 2 (1990)\n",
            "4776    Beyond the Clouds (Al di là delle nuvole) (1996)\n",
            "7855                                     Iron Sky (2012)\n",
            "7799                              Seeking Justice (2011)\n",
            "Name: title, dtype: object\n"
          ]
        }
      ],
      "source": [
        "import pandas as pd\n",
        "from scipy.sparse import csr_matrix\n",
        "from sklearn.neighbors import NearestNeighbors\n",
        "from sklearn.impute import SimpleImputer\n",
        "from fuzzywuzzy import process\n",
        "movies = 'movies.csv'\n",
        "ratings = 'ratings.csv'\n",
        "\n",
        "df_movies  =  pd.read_csv(movies , usecols = ['movieId' , 'title'] , dtype={'movieId' : 'int32' , 'title' : 'str'})\n",
        "df_ratings =  pd.read_csv(ratings , usecols=['userId' , 'movieId' , 'rating'] , dtype={'userId' : 'int32' , 'movieId' : 'int32' , 'rating' : 'float32'})\n",
        "# #Sparse Matrix\n",
        "#    [4 , 4 , 5]\n",
        "#    [3 , 3 , 4]\n",
        "#    [3 , 2 , 1]\n",
        "\n",
        "movies_users = df_ratings.pivot(index='movieId', columns='userId', values='rating')\n",
        "# movies_users()\n",
        "mat_movies_users = csr_matrix(movies_users.fillna(0).values) # fill NaN values with 0 and then create csr matrix\n",
        "model_knn = NearestNeighbors(metric='cosine', algorithm='brute', n_neighbors=40)\n",
        "model_knn.fit(mat_movies_users)\n",
        "#Recommender(movie_name) => List of Movies recommended to me\n",
        "def recommender(movie_name, data, model, n_recommendations):\n",
        "    model.fit(data)\n",
        "    idx = process.extractOne(movie_name, df_movies['title'])[2]\n",
        "    print('Movie Selected:', df_movies['title'][idx], 'Index: ', idx)\n",
        "    print('Searching for recommendations...')\n",
        "    distances, indices = model.kneighbors(data[idx], n_neighbors=n_recommendations)\n",
        "    for i in indices:\n",
        "        print(df_movies['title'][i].where(i!=idx))\n",
        "\n",
        "recommender('Interstellar', mat_movies_users , model_knn , 40)\n",
        "\n",
        "\n"
      ]
    }
  ]
}